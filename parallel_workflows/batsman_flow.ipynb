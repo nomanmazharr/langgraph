{
 "cells": [
  {
   "cell_type": "code",
   "execution_count": 27,
   "id": "9733b6d8",
   "metadata": {},
   "outputs": [],
   "source": [
    "from langgraph.graph import StateGraph, START, END\n",
    "from typing import TypedDict"
   ]
  },
  {
   "cell_type": "code",
   "execution_count": 28,
   "id": "0b407dbb",
   "metadata": {},
   "outputs": [],
   "source": [
    "class BatsmanState(TypedDict):\n",
    "    balls: int\n",
    "    runs: int\n",
    "    fours: int\n",
    "    sixes: int\n",
    "    sr: float\n",
    "    bpb: float\n",
    "    boundary_percent: float\n",
    "    summary: str\n"
   ]
  },
  {
   "cell_type": "code",
   "execution_count": 34,
   "id": "e7d1b77d",
   "metadata": {},
   "outputs": [],
   "source": [
    "def calculate_sr(state: BatsmanState)-> BatsmanState:\n",
    "    balls = state['balls']\n",
    "    runs = state['runs']\n",
    "\n",
    "    sr = (runs/balls) * 100\n",
    "\n",
    "    # state['sr'] = sr\n",
    "    \n",
    "    # return state\n",
    "    return {'sr': sr}\n",
    "\n",
    "\n",
    "def calculate_bpb(state: BatsmanState)-> BatsmanState:\n",
    "    balls = state['balls']\n",
    "    fours = state['fours']\n",
    "    sixes = state['sixes']\n",
    "\n",
    "    bpb = balls/(fours + sixes)\n",
    "\n",
    "    # state['bpb'] = bpb\n",
    "\n",
    "    # return state\n",
    "\n",
    "    return {'bpb': bpb}\n",
    "\n",
    "def calculate_boundary_percent(state: BatsmanState)-> BatsmanState:\n",
    "    boundary_percent = (((state['fours']*4) + (state['sixes']*6)) / state['runs']) * 100\n",
    "\n",
    "    # state['boundary_percent'] = boundary_percent\n",
    "\n",
    "    # return state\n",
    "    return {'boundary_percent': boundary_percent}\n",
    "\n",
    "def calculate_summary(state: BatsmanState)-> BatsmanState:\n",
    "    summary = f'The batsman has strike rate of {state[\"sr\"]}, balls per boundary count is {state[\"bpb\"]} and have boundary percentage of {state[\"boundary_percent\"]}'\n",
    "\n",
    "    # state['summary'] = summary\n",
    "\n",
    "    # return state\n",
    "\n",
    "    return {'summary': summary}"
   ]
  },
  {
   "cell_type": "code",
   "execution_count": 35,
   "id": "f25aa519",
   "metadata": {},
   "outputs": [],
   "source": [
    "graph = StateGraph(BatsmanState)\n",
    "\n",
    "graph.add_node('calculate_sr', calculate_sr)\n",
    "graph.add_node('calculate_bpb', calculate_bpb)\n",
    "graph.add_node('calculate_boundary_percent', calculate_boundary_percent)\n",
    "graph.add_node('calculate_summary', calculate_summary)\n",
    "\n",
    "graph.add_edge(START, 'calculate_sr')\n",
    "graph.add_edge(START, 'calculate_bpb')\n",
    "graph.add_edge(START, 'calculate_boundary_percent')\n",
    "\n",
    "\n",
    "graph.add_edge('calculate_sr', 'calculate_summary')\n",
    "graph.add_edge('calculate_bpb', 'calculate_summary')\n",
    "graph.add_edge('calculate_boundary_percent', 'calculate_summary')\n",
    "\n",
    "graph.add_edge('calculate_summary', END)\n",
    "\n",
    "workflow = graph.compile()"
   ]
  },
  {
   "cell_type": "code",
   "execution_count": 36,
   "id": "dbe0ebc7",
   "metadata": {},
   "outputs": [
    {
     "data": {
      "image/png": "[encoded data removed]",
      "text/plain": [
       "<langgraph.graph.state.CompiledStateGraph object at 0x0000010761928B80>"
      ]
     },
     "execution_count": 36,
     "metadata": {},
     "output_type": "execute_result"
    }
   ],
   "source": [
    "workflow"
   ]
  },
  {
   "cell_type": "code",
   "execution_count": 39,
   "id": "4f79357e",
   "metadata": {},
   "outputs": [],
   "source": [
    "initial_state = {\n",
    "    'balls': 200,\n",
    "    'runs': 150,\n",
    "    'fours': 15,\n",
    "    'sixes': 10\n",
    "}"
   ]
  },
  {
   "cell_type": "code",
   "execution_count": 40,
   "id": "bad96694",
   "metadata": {},
   "outputs": [
    {
     "data": {
      "text/plain": [
       "{'balls': 200,\n",
       " 'runs': 150,\n",
       " 'fours': 15,\n",
       " 'sixes': 10,\n",
       " 'sr': 75.0,\n",
       " 'bpb': 8.0,\n",
       " 'boundary_percent': 80.0,\n",
       " 'summary': 'The batsman has strike rate of 75.0, balls per boundary count is 8.0 and have boundary percentage of 80.0'}"
      ]
     },
     "execution_count": 40,
     "metadata": {},
     "output_type": "execute_result"
    }
   ],
   "source": [
    "workflow.invoke(initial_state)"
   ]
  },
  {
   "cell_type": "code",
   "execution_count": null,
   "id": "ca25a75e",
   "metadata": {},
   "outputs": [],
   "source": []
  }
 ],
 "metadata": {
  "kernelspec": {
   "display_name": "base (3.10.11)",
   "language": "python",
   "name": "python3"
  },
  "language_info": {
   "codemirror_mode": {
    "name": "ipython",
    "version": 3
   },
   "file_extension": ".py",
   "mimetype": "text/x-python",
   "name": "python",
   "nbconvert_exporter": "python",
   "pygments_lexer": "ipython3",
   "version": "3.10.11"
  }
 },
 "nbformat": 4,
 "nbformat_minor": 5
}
