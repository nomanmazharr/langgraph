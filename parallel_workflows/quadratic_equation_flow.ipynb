{
 "cells": [
  {
   "cell_type": "code",
   "execution_count": 10,
   "id": "eab10e65",
   "metadata": {},
   "outputs": [],
   "source": [
    "from langgraph.graph import StateGraph, START, END\n",
    "from typing import TypedDict, Literal"
   ]
  },
  {
   "cell_type": "code",
   "execution_count": 2,
   "id": "243bcc87",
   "metadata": {},
   "outputs": [],
   "source": [
    "class QuadraticState(TypedDict):\n",
    "    a : int\n",
    "    b : int\n",
    "    c : int\n",
    "    eq : str\n",
    "    discriminant : float\n",
    "    result : str"
   ]
  },
  {
   "cell_type": "code",
   "execution_count": 17,
   "id": "5364ef72",
   "metadata": {},
   "outputs": [],
   "source": [
    "def calc_equation(state: QuadraticState) -> QuadraticState:\n",
    "    eq = f\"{state['a']}x2 + {state['b']}x + {state['c']}\"\n",
    "\n",
    "    return {'eq': eq}\n",
    "\n",
    "\n",
    "def calc_discriminant(state: QuadraticState) -> QuadraticState:\n",
    "    discriminant = state['b']**2 - (4*state['a']*state['c'])\n",
    "\n",
    "    return {'discriminant': discriminant}\n",
    "\n",
    "\n",
    "def real_roots(state: QuadraticState) -> QuadraticState:\n",
    "    root1 = (-state['b'] + state['discriminant']**0.5)/(2*state['a'])\n",
    "    root2 = (-state['b'] - state['discriminant']**0.5)/(2*state['a'])\n",
    "\n",
    "    result = f\"Real roots are {root1} and {root2}\"\n",
    "\n",
    "    return {'result': result}\n",
    "\n",
    "\n",
    "def repeated_root(state: QuadraticState)-> QuadraticState:\n",
    "    root = -(state['b'])/(2**state['a'])\n",
    "\n",
    "    result = f\"Repeated root is {root}\"\n",
    "\n",
    "    return {'result': result}\n",
    "\n",
    "def no_real_roots(state: QuadraticState)-> QuadraticState:\n",
    "    result = \"No real roots\"\n",
    "\n",
    "    return {'result': result}\n",
    "    \n",
    "\n",
    "def check_condition(state: QuadraticState) -> Literal[\"real_roots\", \"repeated_root\", \"no_real_roots\"]:\n",
    "    if state['discriminant'] > 0:\n",
    "        return \"real_roots\"\n",
    "    elif state['discriminant'] == 0:\n",
    "        return \"repeated_root\"\n",
    "    else:\n",
    "        return \"no_real_roots\""
   ]
  },
  {
   "cell_type": "code",
   "execution_count": 18,
   "id": "dcaef6cc",
   "metadata": {},
   "outputs": [],
   "source": [
    "graph = StateGraph(QuadraticState)\n",
    "\n",
    "graph.add_node('calc_equation', calc_equation)\n",
    "graph.add_node('calc_discriminant', calc_discriminant)\n",
    "graph.add_node('real_roots', real_roots)\n",
    "graph.add_node('repeated_root', repeated_root)\n",
    "graph.add_node('no_real_roots', no_real_roots)\n",
    "\n",
    "\n",
    "graph.add_edge(START, \"calc_equation\")\n",
    "graph.add_edge('calc_equation', 'calc_discriminant')\n",
    "\n",
    "graph.add_conditional_edges('calc_discriminant', check_condition)\n",
    "\n",
    "graph.add_edge(\"real_roots\", END)\n",
    "graph.add_edge(\"no_real_roots\", END)\n",
    "graph.add_edge(\"repeated_root\", END)\n",
    "# graph.add\n",
    "\n",
    "workflow = graph.compile()"
   ]
  },
  {
   "cell_type": "code",
   "execution_count": 19,
   "id": "7a7e5de7",
   "metadata": {},
   "outputs": [
    {
     "data": {
      "image/png": "[encoded data removed]",
      "text/plain": [
       "<langgraph.graph.state.CompiledStateGraph object at 0x00000195AF5B9000>"
      ]
     },
     "execution_count": 19,
     "metadata": {},
     "output_type": "execute_result"
    }
   ],
   "source": [
    "workflow"
   ]
  },
  {
   "cell_type": "code",
   "execution_count": 28,
   "id": "9613b56e",
   "metadata": {},
   "outputs": [],
   "source": [
    "initial_state = {\n",
    "    'a': 3,\n",
    "    'b': 1,\n",
    "    'c': 4\n",
    "}"
   ]
  },
  {
   "cell_type": "code",
   "execution_count": 29,
   "id": "22a9779b",
   "metadata": {},
   "outputs": [
    {
     "data": {
      "text/plain": [
       "{'a': 3,\n",
       " 'b': 1,\n",
       " 'c': 4,\n",
       " 'eq': '3x2 + 1x + 4',\n",
       " 'discriminant': -47,\n",
       " 'result': 'No real roots'}"
      ]
     },
     "execution_count": 29,
     "metadata": {},
     "output_type": "execute_result"
    }
   ],
   "source": [
    "final_state = workflow.invoke(initial_state)\n",
    "final_state"
   ]
  },
  {
   "cell_type": "code",
   "execution_count": null,
   "id": "4924d832",
   "metadata": {},
   "outputs": [],
   "source": []
  }
 ],
 "metadata": {
  "kernelspec": {
   "display_name": "base (3.10.11)",
   "language": "python",
   "name": "python3"
  },
  "language_info": {
   "codemirror_mode": {
    "name": "ipython",
    "version": 3
   },
   "file_extension": ".py",
   "mimetype": "text/x-python",
   "name": "python",
   "nbconvert_exporter": "python",
   "pygments_lexer": "ipython3",
   "version": "3.10.11"
  }
 },
 "nbformat": 4,
 "nbformat_minor": 5
}
