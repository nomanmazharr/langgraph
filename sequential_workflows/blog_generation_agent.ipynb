{
 "cells": [
  {
   "cell_type": "code",
   "execution_count": 4,
   "id": "bae4a5b9",
   "metadata": {},
   "outputs": [],
   "source": [
    "from langgraph.graph import StateGraph, START, END\n",
    "from dotenv import load_dotenv\n",
    "from typing import TypedDict\n",
    "from langchain_anthropic import ChatAnthropic"
   ]
  },
  {
   "cell_type": "code",
   "execution_count": 2,
   "id": "6aef5098",
   "metadata": {},
   "outputs": [
    {
     "data": {
      "text/plain": [
       "True"
      ]
     },
     "execution_count": 2,
     "metadata": {},
     "output_type": "execute_result"
    }
   ],
   "source": [
    "load_dotenv()"
   ]
  },
  {
   "cell_type": "code",
   "execution_count": 5,
   "id": "3122695e",
   "metadata": {},
   "outputs": [],
   "source": [
    "llm = ChatAnthropic(model_name='claude-3-5-sonnet-20241022', streaming=True)"
   ]
  },
  {
   "cell_type": "code",
   "execution_count": 3,
   "id": "c9390f07",
   "metadata": {},
   "outputs": [],
   "source": [
    "class BlogState(TypedDict):\n",
    "    title: str\n",
    "    outline: str\n",
    "    blog: str"
   ]
  },
  {
   "cell_type": "code",
   "execution_count": 15,
   "id": "70c36bbf",
   "metadata": {},
   "outputs": [],
   "source": [
    "def create_outline(state: BlogState)-> BlogState:\n",
    "    title = state['title']\n",
    "\n",
    "    outline = llm.invoke(f'Generate a detailed outline on the following topic:  {title}')\n",
    "\n",
    "    state['outline'] = outline\n",
    "\n",
    "    return state\n",
    "\n",
    "\n",
    "def blog_generator(state: BlogState) -> BlogState:\n",
    "    title = state['title']\n",
    "    outline = state['outline']\n",
    "\n",
    "    blog = llm.invoke(f'Generate a blog on the following topic under 500 words:\\n  {title}.\\n Using the given ouline\\n {outline}')\n",
    "\n",
    "    state['blog'] = blog\n",
    "\n",
    "    return state"
   ]
  },
  {
   "cell_type": "code",
   "execution_count": 16,
   "id": "a9094ecd",
   "metadata": {},
   "outputs": [
    {
     "data": {
      "image/png": "[encoded data removed]",
      "text/plain": [
       "<langgraph.graph.state.CompiledStateGraph object at 0x0000028856C56410>"
      ]
     },
     "execution_count": 16,
     "metadata": {},
     "output_type": "execute_result"
    }
   ],
   "source": [
    "graph = StateGraph(BlogState)\n",
    "\n",
    "graph.add_node('create_outline', create_outline)\n",
    "graph.add_node('blog_generator', blog_generator)\n",
    "\n",
    "graph.add_edge(START, 'create_outline')\n",
    "graph.add_edge('create_outline', 'blog_generator')\n",
    "graph.add_edge('blog_generator', END)\n",
    "\n",
    "workflow = graph.compile()\n",
    "workflow"
   ]
  },
  {
   "cell_type": "code",
   "execution_count": 17,
   "id": "36aa1f37",
   "metadata": {},
   "outputs": [],
   "source": [
    "initial_state = {'title': 'women Empowerment'}\n",
    "blog = workflow.invoke(initial_state)"
   ]
  },
  {
   "cell_type": "code",
   "execution_count": 18,
   "id": "36e8a9fa",
   "metadata": {},
   "outputs": [
    {
     "data": {
      "text/plain": [
       "{'title': 'women Empowerment',\n",
       " 'outline': AIMessage(content=\"Here's a detailed outline on Women Empowerment:\\n\\nI. Introduction\\n   A. Definition of women empowerment\\n   B. Historical context\\n   C. Importance in modern society\\n\\nII. Key Aspects of Women Empowerment\\n    A. Educational empowerment\\n       1. Access to education\\n       2. Quality education\\n       3. Higher education opportunities\\n       4. Skill development\\n\\n    B. Economic empowerment\\n       1. Employment opportunities\\n       2. Equal pay\\n       3. Financial literacy\\n       4. Entrepreneurship\\n       5. Access to credit and resources\\n\\n    C. Political empowerment\\n       1. Voting rights\\n       2. Political representation\\n       3. Leadership positions\\n       4. Policy-making involvement\\n\\n    D. Social empowerment\\n       1. Decision-making authority\\n       2. Freedom of choice\\n       3. Social mobility\\n       4. Cultural rights\\n\\nIII. Challenges to Women Empowerment\\n     A. Gender discrimination\\n     B. Cultural barriers\\n     C. Economic inequality\\n     D. Limited access to resources\\n     E. Violence against women\\n     F. Patriarchal mindset\\n\\nIV. Global Initiatives and Organizations\\n    A. United Nations programs\\n    B. NGOs and advocacy groups\\n    C. Government policies\\n    D. International conventions\\n    E. Corporate initiatives\\n\\nV. Strategies for Promoting Women Empowerment\\n   A. Education and awareness\\n      1. Gender sensitivity training\\n      2. Public awareness campaigns\\n      3. Educational reforms\\n\\n   B. Legal measures\\n      1. Anti-discrimination laws\\n      2. Equal rights legislation\\n      3. Protection against violence\\n\\n   C. Economic measures\\n      1. Equal pay policies\\n      2. Workplace diversity\\n      3. Support for women entrepreneurs\\n      4. Financial inclusion\\n\\n   D. Social measures\\n      1. Breaking stereotypes\\n      2. Cultural change\\n      3. Community support\\n      4. Family support systems\\n\\nVI. Impact of Women Empowerment\\n    A. Economic growth\\n    B. Social development\\n    C. Family welfare\\n    D. National progress\\n    E. Global development\\n\\nVII. Role of Different Stakeholders\\n     A. Government\\n     B. Educational institutions\\n     C. Private sector\\n     D. Civil society\\n     E. Media\\n     F. Family and community\\n\\nVIII. Technology and Women Empowerment\\n      A. Digital literacy\\n      B. Online opportunities\\n      C. Tech-based solutions\\n      D. Social media influence\\n\\nIX. Future Perspectives\\n    A. Emerging trends\\n    B. Areas requiring attention\\n    C. Potential challenges\\n    D. Opportunities for growth\\n\\nX. Conclusion\\n   A. Summary of key points\\n   B. Call to action\\n   C. Vision for the future\\n\\nThis outline covers the major aspects of women empowerment, from its fundamental concepts to implementation strategies and future outlook. Each section can be expanded further based on specific needs and focus areas.\", additional_kwargs={}, response_metadata={'model_name': 'claude-3-5-sonnet-20241022', 'stop_reason': 'end_turn', 'stop_sequence': None}, id='run--5e6aea2e-f6e4-46bd-a99f-4bb1098ce77b-0', usage_metadata={'input_tokens': 22, 'output_tokens': 655, 'total_tokens': 677, 'input_token_details': {'cache_creation': 0, 'cache_read': 0}}),\n",
       " 'blog': AIMessage(content=\"Women Empowerment: A Path to Global Progress\\n\\nWomen empowerment represents one of the most crucial social movements of our time, focusing on providing women with the power to control their own destinies and contribute equally to society. Throughout history, women have faced numerous challenges and limitations, but the modern era has witnessed significant strides toward gender equality and women's rights.\\n\\nAt its core, women empowerment encompasses several key dimensions. Educational empowerment stands as the foundation, providing women with access to quality education and skill development opportunities. When girls receive education, they gain the knowledge and confidence needed to pursue their dreams and make informed decisions about their lives.\\n\\nEconomic empowerment plays an equally vital role. Despite progress, women continue to face workplace discrimination, wage gaps, and limited access to financial resources. Promoting equal pay, supporting women entrepreneurs, and ensuring access to credit are essential steps toward economic independence. When women are financially empowered, entire communities benefit from their success.\\n\\nPolitical representation remains another crucial aspect of women empowerment. While women have gained voting rights in most countries, their representation in leadership positions and policy-making roles remains disproportionately low. Increasing women's participation in politics ensures diverse perspectives in decision-making processes and more inclusive policies.\\n\\nHowever, numerous challenges persist. Cultural barriers, patriarchal mindsets, and gender-based violence continue to impede progress. Many women still face restricted social mobility and limited decision-making authority within their families and communities. Addressing these challenges requires a multi-faceted approach involving various stakeholders.\\n\\nGlobal initiatives and organizations play a vital role in promoting women empowerment. The United Nations, numerous NGOs, and government policies work together to create positive change. These efforts include implementing anti-discrimination laws, providing educational opportunities, and supporting economic initiatives for women.\\n\\nTechnology has emerged as a powerful tool for women empowerment. Digital literacy and online platforms offer new opportunities for learning, entrepreneurship, and networking. Social media has become a powerful medium for raising awareness and advocating for women's rights.\\n\\nLooking ahead, the future of women empowerment appears promising but requires continued dedication and effort. Emerging trends suggest growing awareness and support for gender equality, but challenges remain. The key lies in maintaining momentum and addressing new challenges while building on existing progress.\\n\\nThe impact of women empowerment extends far beyond individual benefits. When women are empowered, societies experience enhanced economic growth, improved family welfare, and accelerated national development. Empowered women contribute their talents, skills, and perspectives to all aspects of life, creating a more balanced and prosperous world.\\n\\nAs we move forward, it's crucial to remember that women empowerment is not just a women's issue – it's a human rights issue that affects everyone. By working together to break barriers and create opportunities, we can build a more equitable and inclusive world for all.\", additional_kwargs={}, response_metadata={'model_name': 'claude-3-5-sonnet-20241022', 'stop_reason': 'end_turn', 'stop_sequence': None}, id='run--dff1bf39-f914-4bc4-802c-9d759950686a-0', usage_metadata={'input_tokens': 952, 'output_tokens': 604, 'total_tokens': 1556, 'input_token_details': {'cache_creation': 0, 'cache_read': 0}})}"
      ]
     },
     "execution_count": 18,
     "metadata": {},
     "output_type": "execute_result"
    }
   ],
   "source": [
    "blog"
   ]
  },
  {
   "cell_type": "code",
   "execution_count": 20,
   "id": "6d769d69",
   "metadata": {},
   "outputs": [
    {
     "data": {
      "text/plain": [
       "\"Here's a detailed outline on Women Empowerment:\\n\\nI. Introduction\\n   A. Definition of women empowerment\\n   B. Historical context\\n   C. Importance in modern society\\n\\nII. Key Aspects of Women Empowerment\\n    A. Educational empowerment\\n       1. Access to education\\n       2. Quality education\\n       3. Higher education opportunities\\n       4. Skill development\\n\\n    B. Economic empowerment\\n       1. Employment opportunities\\n       2. Equal pay\\n       3. Financial literacy\\n       4. Entrepreneurship\\n       5. Access to credit and resources\\n\\n    C. Political empowerment\\n       1. Voting rights\\n       2. Political representation\\n       3. Leadership positions\\n       4. Policy-making involvement\\n\\n    D. Social empowerment\\n       1. Decision-making authority\\n       2. Freedom of choice\\n       3. Social mobility\\n       4. Cultural rights\\n\\nIII. Challenges to Women Empowerment\\n     A. Gender discrimination\\n     B. Cultural barriers\\n     C. Economic inequality\\n     D. Limited access to resources\\n     E. Violence against women\\n     F. Patriarchal mindset\\n\\nIV. Global Initiatives and Organizations\\n    A. United Nations programs\\n    B. NGOs and advocacy groups\\n    C. Government policies\\n    D. International conventions\\n    E. Corporate initiatives\\n\\nV. Strategies for Promoting Women Empowerment\\n   A. Education and awareness\\n      1. Gender sensitivity training\\n      2. Public awareness campaigns\\n      3. Educational reforms\\n\\n   B. Legal measures\\n      1. Anti-discrimination laws\\n      2. Equal rights legislation\\n      3. Protection against violence\\n\\n   C. Economic measures\\n      1. Equal pay policies\\n      2. Workplace diversity\\n      3. Support for women entrepreneurs\\n      4. Financial inclusion\\n\\n   D. Social measures\\n      1. Breaking stereotypes\\n      2. Cultural change\\n      3. Community support\\n      4. Family support systems\\n\\nVI. Impact of Women Empowerment\\n    A. Economic growth\\n    B. Social development\\n    C. Family welfare\\n    D. National progress\\n    E. Global development\\n\\nVII. Role of Different Stakeholders\\n     A. Government\\n     B. Educational institutions\\n     C. Private sector\\n     D. Civil society\\n     E. Media\\n     F. Family and community\\n\\nVIII. Technology and Women Empowerment\\n      A. Digital literacy\\n      B. Online opportunities\\n      C. Tech-based solutions\\n      D. Social media influence\\n\\nIX. Future Perspectives\\n    A. Emerging trends\\n    B. Areas requiring attention\\n    C. Potential challenges\\n    D. Opportunities for growth\\n\\nX. Conclusion\\n   A. Summary of key points\\n   B. Call to action\\n   C. Vision for the future\\n\\nThis outline covers the major aspects of women empowerment, from its fundamental concepts to implementation strategies and future outlook. Each section can be expanded further based on specific needs and focus areas.\""
      ]
     },
     "execution_count": 20,
     "metadata": {},
     "output_type": "execute_result"
    }
   ],
   "source": [
    "blog['outline'].content"
   ]
  },
  {
   "cell_type": "code",
   "execution_count": 22,
   "id": "c79b6eae",
   "metadata": {},
   "outputs": [
    {
     "data": {
      "text/plain": [
       "\"Women Empowerment: A Path to Global Progress\\n\\nWomen empowerment represents one of the most crucial social movements of our time, focusing on providing women with the power to control their own destinies and contribute equally to society. Throughout history, women have faced numerous challenges and limitations, but the modern era has witnessed significant strides toward gender equality and women's rights.\\n\\nAt its core, women empowerment encompasses several key dimensions. Educational empowerment stands as the foundation, providing women with access to quality education and skill development opportunities. When girls receive education, they gain the knowledge and confidence needed to pursue their dreams and make informed decisions about their lives.\\n\\nEconomic empowerment plays an equally vital role. Despite progress, women continue to face workplace discrimination, wage gaps, and limited access to financial resources. Promoting equal pay, supporting women entrepreneurs, and ensuring access to credit are essential steps toward economic independence. When women are financially empowered, entire communities benefit from their success.\\n\\nPolitical representation remains another crucial aspect of women empowerment. While women have gained voting rights in most countries, their representation in leadership positions and policy-making roles remains disproportionately low. Increasing women's participation in politics ensures diverse perspectives in decision-making processes and more inclusive policies.\\n\\nHowever, numerous challenges persist. Cultural barriers, patriarchal mindsets, and gender-based violence continue to impede progress. Many women still face restricted social mobility and limited decision-making authority within their families and communities. Addressing these challenges requires a multi-faceted approach involving various stakeholders.\\n\\nGlobal initiatives and organizations play a vital role in promoting women empowerment. The United Nations, numerous NGOs, and government policies work together to create positive change. These efforts include implementing anti-discrimination laws, providing educational opportunities, and supporting economic initiatives for women.\\n\\nTechnology has emerged as a powerful tool for women empowerment. Digital literacy and online platforms offer new opportunities for learning, entrepreneurship, and networking. Social media has become a powerful medium for raising awareness and advocating for women's rights.\\n\\nLooking ahead, the future of women empowerment appears promising but requires continued dedication and effort. Emerging trends suggest growing awareness and support for gender equality, but challenges remain. The key lies in maintaining momentum and addressing new challenges while building on existing progress.\\n\\nThe impact of women empowerment extends far beyond individual benefits. When women are empowered, societies experience enhanced economic growth, improved family welfare, and accelerated national development. Empowered women contribute their talents, skills, and perspectives to all aspects of life, creating a more balanced and prosperous world.\\n\\nAs we move forward, it's crucial to remember that women empowerment is not just a women's issue – it's a human rights issue that affects everyone. By working together to break barriers and create opportunities, we can build a more equitable and inclusive world for all.\""
      ]
     },
     "execution_count": 22,
     "metadata": {},
     "output_type": "execute_result"
    }
   ],
   "source": [
    "blog['blog'].content"
   ]
  }
 ],
 "metadata": {
  "kernelspec": {
   "display_name": "base (3.10.11)",
   "language": "python",
   "name": "python3"
  },
  "language_info": {
   "codemirror_mode": {
    "name": "ipython",
    "version": 3
   },
   "file_extension": ".py",
   "mimetype": "text/x-python",
   "name": "python",
   "nbconvert_exporter": "python",
   "pygments_lexer": "ipython3",
   "version": "3.10.11"
  }
 },
 "nbformat": 4,
 "nbformat_minor": 5
}
