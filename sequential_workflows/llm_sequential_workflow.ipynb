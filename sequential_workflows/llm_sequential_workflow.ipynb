{
 "cells": [
  {
   "cell_type": "code",
   "execution_count": 5,
   "id": "69564ad9",
   "metadata": {},
   "outputs": [],
   "source": [
    "from langgraph.graph import StateGraph, START, END\n",
    "from typing import TypedDict\n",
    "from dotenv import load_dotenv\n",
    "from langchain_anthropic import ChatAnthropic"
   ]
  },
  {
   "cell_type": "code",
   "execution_count": 6,
   "id": "fa143c11",
   "metadata": {},
   "outputs": [
    {
     "data": {
      "text/plain": [
       "True"
      ]
     },
     "execution_count": 6,
     "metadata": {},
     "output_type": "execute_result"
    }
   ],
   "source": [
    "load_dotenv()"
   ]
  },
  {
   "cell_type": "code",
   "execution_count": 7,
   "id": "17cc93e9",
   "metadata": {},
   "outputs": [],
   "source": [
    "llm = ChatAnthropic(model_name='claude-3-5-sonnet-20241022', streaming=True)"
   ]
  },
  {
   "cell_type": "code",
   "execution_count": 8,
   "id": "e3014163",
   "metadata": {},
   "outputs": [
    {
     "data": {
      "text/plain": [
       "AIMessage(content='Hello! How can I help you today?', additional_kwargs={}, response_metadata={'model_name': 'claude-3-5-sonnet-20241022', 'stop_reason': 'end_turn', 'stop_sequence': None}, id='run--ded4a87b-0598-42c5-b81d-06f3ee2f1f69-0', usage_metadata={'input_tokens': 8, 'output_tokens': 12, 'total_tokens': 20, 'input_token_details': {'cache_creation': 0, 'cache_read': 0}})"
      ]
     },
     "execution_count": 8,
     "metadata": {},
     "output_type": "execute_result"
    }
   ],
   "source": [
    "llm.invoke('hi')"
   ]
  },
  {
   "cell_type": "code",
   "execution_count": null,
   "id": "da28bd10",
   "metadata": {},
   "outputs": [],
   "source": [
    "class LLMState(TypedDict):\n",
    "    question: str\n",
    "    answer: str"
   ]
  },
  {
   "cell_type": "code",
   "execution_count": 9,
   "id": "3d42e632",
   "metadata": {},
   "outputs": [],
   "source": [
    "def llm_conversation(state: LLMState) -> LLMState:\n",
    "    question = state['question']\n",
    "\n",
    "    answer = llm.invoke(f'Answer the following question {question}')\n",
    "\n",
    "    state['answer'] = answer\n",
    "\n",
    "    return state\n"
   ]
  },
  {
   "cell_type": "code",
   "execution_count": 10,
   "id": "d94d397b",
   "metadata": {},
   "outputs": [
    {
     "data": {
      "text/plain": [
       "<langgraph.graph.state.StateGraph at 0x18d045c8fa0>"
      ]
     },
     "execution_count": 10,
     "metadata": {},
     "output_type": "execute_result"
    }
   ],
   "source": [
    "graph = StateGraph(LLMState)\n",
    "\n",
    "graph.add_node('llm_conversation', llm_conversation)\n",
    "# graph.add_node('')"
   ]
  },
  {
   "cell_type": "code",
   "execution_count": 11,
   "id": "cfd82dcc",
   "metadata": {},
   "outputs": [],
   "source": [
    "graph.add_edge(START, 'llm_conversation')\n",
    "graph.add_edge('llm_conversation', END)\n",
    "\n",
    "\n",
    "workflow = graph.compile()"
   ]
  },
  {
   "cell_type": "code",
   "execution_count": 12,
   "id": "a14e882e",
   "metadata": {},
   "outputs": [
    {
     "data": {
      "image/png": "[encoded data removed]",
      "text/plain": [
       "<langgraph.graph.state.CompiledStateGraph object at 0x0000018D04B72BF0>"
      ]
     },
     "execution_count": 12,
     "metadata": {},
     "output_type": "execute_result"
    }
   ],
   "source": [
    "workflow"
   ]
  },
  {
   "cell_type": "code",
   "execution_count": 14,
   "id": "f318e76d",
   "metadata": {},
   "outputs": [],
   "source": [
    "initial_state = {'question': 'Who is the current Prime Minister of Pakistan'}\n",
    "\n",
    "result = workflow.invoke(initial_state)"
   ]
  },
  {
   "cell_type": "code",
   "execution_count": 15,
   "id": "5d6b4eb1",
   "metadata": {},
   "outputs": [
    {
     "data": {
      "text/plain": [
       "{'question': 'Who is the current Prime Minister of Pakistan',\n",
       " 'answer': AIMessage(content='As of 2024, Shehbaz Sharif is the current Prime Minister of Pakistan. He was elected as Prime Minister for the second time on March 3, 2024, following the controversial February 2024 general elections. He previously served as Prime Minister from April 2022 to August 2023. Shehbaz Sharif is the leader of the Pakistan Muslim League-Nawaz (PML-N) party and is the younger brother of former Prime Minister Nawaz Sharif.', additional_kwargs={}, response_metadata={'model_name': 'claude-3-5-sonnet-20241022', 'stop_reason': 'end_turn', 'stop_sequence': None}, id='run--4d94ab55-c754-4b44-965b-a2d1a67aca88-0', usage_metadata={'input_tokens': 19, 'output_tokens': 116, 'total_tokens': 135, 'input_token_details': {'cache_creation': 0, 'cache_read': 0}})}"
      ]
     },
     "execution_count": 15,
     "metadata": {},
     "output_type": "execute_result"
    }
   ],
   "source": [
    "result"
   ]
  },
  {
   "cell_type": "code",
   "execution_count": 20,
   "id": "014b3def",
   "metadata": {},
   "outputs": [
    {
     "data": {
      "text/plain": [
       "'As of 2024, Shehbaz Sharif is the current Prime Minister of Pakistan. He was elected as Prime Minister for the second time on March 3, 2024, following the controversial February 2024 general elections. He previously served as Prime Minister from April 2022 to August 2023. Shehbaz Sharif is the leader of the Pakistan Muslim League-Nawaz (PML-N) party and is the younger brother of former Prime Minister Nawaz Sharif.'"
      ]
     },
     "execution_count": 20,
     "metadata": {},
     "output_type": "execute_result"
    }
   ],
   "source": [
    "result['answer'].content"
   ]
  },
  {
   "cell_type": "code",
   "execution_count": null,
   "id": "05cb939b",
   "metadata": {},
   "outputs": [],
   "source": []
  }
 ],
 "metadata": {
  "kernelspec": {
   "display_name": "base (3.10.11)",
   "language": "python",
   "name": "python3"
  },
  "language_info": {
   "codemirror_mode": {
    "name": "ipython",
    "version": 3
   },
   "file_extension": ".py",
   "mimetype": "text/x-python",
   "name": "python",
   "nbconvert_exporter": "python",
   "pygments_lexer": "ipython3",
   "version": "3.10.11"
  }
 },
 "nbformat": 4,
 "nbformat_minor": 5
}
