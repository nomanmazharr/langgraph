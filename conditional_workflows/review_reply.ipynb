{
 "cells": [
  {
   "cell_type": "code",
   "execution_count": 29,
   "id": "592bc765",
   "metadata": {},
   "outputs": [],
   "source": [
    "from langgraph.graph import StateGraph, START, END\n",
    "from langchain_anthropic import ChatAnthropic\n",
    "from typing import TypedDict, Literal\n",
    "from dotenv import load_dotenv\n",
    "from pydantic import BaseModel, Field"
   ]
  },
  {
   "cell_type": "code",
   "execution_count": 30,
   "id": "f83aa167",
   "metadata": {},
   "outputs": [
    {
     "data": {
      "text/plain": [
       "True"
      ]
     },
     "execution_count": 30,
     "metadata": {},
     "output_type": "execute_result"
    }
   ],
   "source": [
    "load_dotenv()"
   ]
  },
  {
   "cell_type": "code",
   "execution_count": 31,
   "id": "8be3d755",
   "metadata": {},
   "outputs": [],
   "source": [
    "model = ChatAnthropic(model='claude-3-5-sonnet-20241022')"
   ]
  },
  {
   "cell_type": "code",
   "execution_count": 32,
   "id": "a5311c3e",
   "metadata": {},
   "outputs": [
    {
     "data": {
      "text/plain": [
       "AIMessage(content='Hello! How can I help you today?', additional_kwargs={}, response_metadata={'id': 'msg_014TrTjMEHM7f4ykGttWfb3Z', 'model': 'claude-3-5-sonnet-20241022', 'stop_reason': 'end_turn', 'stop_sequence': None, 'usage': {'cache_creation_input_tokens': 0, 'cache_read_input_tokens': 0, 'input_tokens': 8, 'output_tokens': 12, 'server_tool_use': None, 'service_tier': 'standard', 'cache_creation': {'ephemeral_5m_input_tokens': 0, 'ephemeral_1h_input_tokens': 0}}, 'model_name': 'claude-3-5-sonnet-20241022'}, id='run--ab416444-6603-495a-8443-d56afcf5c8b3-0', usage_metadata={'input_tokens': 8, 'output_tokens': 12, 'total_tokens': 20, 'input_token_details': {'cache_read': 0, 'cache_creation': 0}})"
      ]
     },
     "execution_count": 32,
     "metadata": {},
     "output_type": "execute_result"
    }
   ],
   "source": [
    "model.invoke('hi')"
   ]
  },
  {
   "cell_type": "code",
   "execution_count": 33,
   "id": "ac510284",
   "metadata": {},
   "outputs": [],
   "source": [
    "class SentimentSchema(BaseModel):\n",
    "    sentiment: Literal['positive', 'negative'] = Field(description='Tell the sentiment of the review')"
   ]
  },
  {
   "cell_type": "code",
   "execution_count": 34,
   "id": "571b19a6",
   "metadata": {},
   "outputs": [],
   "source": [
    "class DiagnosisSchema(BaseModel):\n",
    "    issue_type: Literal['UI', 'Support', 'Bug', 'Performance', 'other'] = Field(description=\"tell the issue category mentioned in the review\")\n",
    "    tone: Literal['frustrated', 'disappointed', 'calm', 'angry', 'happy'] = Field(description='tell the tone of the person who gave the review')\n",
    "    urgency: Literal['low', 'medium', 'high'] = Field(description='tell the urgency of the issue')"
   ]
  },
  {
   "cell_type": "code",
   "execution_count": 35,
   "id": "23b79b8a",
   "metadata": {},
   "outputs": [],
   "source": [
    "sentiment_model = model.with_structured_output(schema=SentimentSchema)\n",
    "diagnosis_model = model.with_structured_output(schema=DiagnosisSchema)"
   ]
  },
  {
   "cell_type": "code",
   "execution_count": 36,
   "id": "3849d992",
   "metadata": {},
   "outputs": [],
   "source": [
    "prompt = f\"what's the sentiment of the following review \\n The software is too good\""
   ]
  },
  {
   "cell_type": "code",
   "execution_count": 37,
   "id": "329d9455",
   "metadata": {},
   "outputs": [
    {
     "data": {
      "text/plain": [
       "'positive'"
      ]
     },
     "execution_count": 37,
     "metadata": {},
     "output_type": "execute_result"
    }
   ],
   "source": [
    "sentiment_model.invoke(prompt).sentiment"
   ]
  },
  {
   "cell_type": "code",
   "execution_count": 38,
   "id": "298c4194",
   "metadata": {},
   "outputs": [],
   "source": [
    "class ReviewState(TypedDict):\n",
    "    review : str\n",
    "    sentiment: Literal['positve', 'negative']\n",
    "    diagnosis: dict\n",
    "    response: str"
   ]
  },
  {
   "cell_type": "code",
   "execution_count": 50,
   "id": "91ea25e5",
   "metadata": {},
   "outputs": [],
   "source": [
    "def person_sentiment(state: ReviewState) -> ReviewState:\n",
    "    sentiment = sentiment_model.invoke(f\"tell me the sentiment of the following review \\n {state['review']}\").sentiment\n",
    "\n",
    "    return {'sentiment': sentiment}\n",
    "\n",
    "\n",
    "def check_sentiment(state: ReviewState) -> Literal['positive_response', 'run_diagnosis']:\n",
    "    sentiment = state['sentiment']\n",
    "\n",
    "    if sentiment == 'positive':\n",
    "        return 'positive_response'\n",
    "    else:\n",
    "        return 'run_diagnosis'\n",
    "    \n",
    "def positive_response(state: ReviewState) -> ReviewState:\n",
    "    prompt = f\"Write a thank you message in response to this review \\n {state['review']}. \\n Also ask the user to kindly leave positive feedback and 5 star rating\"\n",
    "    response = model.invoke(prompt).content\n",
    "\n",
    "    return {'response': response}\n",
    "\n",
    "\n",
    "def run_diagnosis(state: ReviewState) -> ReviewState:\n",
    "    prompt = f\"Run the diagnosis on this negative review \\n {state['review']}. \\n Return the issue type, tone and urgency\"\n",
    "    response = diagnosis_model.invoke(prompt)\n",
    "\n",
    "    return {'diagnosis': response.model_dump()}\n",
    "\n",
    "def negative_response(state: ReviewState) -> ReviewState:\n",
    "    diagnosis = state['diagnosis']\n",
    "    prompt = f\"\"\"You are a support assistant. User had following issue {diagnosis['issue_type']}, sounded {diagnosis['tone']} and described urgency as {diagnosis['urgency']}.\n",
    "    Write a warm and empathetic review to make user feel better\"\"\"\n",
    "\n",
    "    response = model.invoke(prompt).content\n",
    "\n",
    "    return {'response': response}"
   ]
  },
  {
   "cell_type": "code",
   "execution_count": 51,
   "id": "369dcbcf",
   "metadata": {},
   "outputs": [],
   "source": [
    "graph = StateGraph(ReviewState)\n",
    "\n",
    "\n",
    "graph.add_node('person_sentiment', person_sentiment)\n",
    "\n",
    "graph.add_node('positive_response', positive_response)\n",
    "graph.add_node('run_diagnosis', run_diagnosis)\n",
    "graph.add_node('negative_response', negative_response)\n",
    "\n",
    "\n",
    "graph.add_edge(START, \"person_sentiment\")\n",
    "\n",
    "\n",
    "graph.add_conditional_edges(\"person_sentiment\", check_sentiment)\n",
    "\n",
    "graph.add_edge('positive_response', END)\n",
    "graph.add_edge(\"run_diagnosis\", \"negative_response\")\n",
    "graph.add_edge(\"negative_response\", END)\n",
    "\n",
    "\n",
    "workflow = graph.compile()"
   ]
  },
  {
   "cell_type": "code",
   "execution_count": 52,
   "id": "75fd0714",
   "metadata": {},
   "outputs": [
    {
     "data": {
      "image/png": "[encoded data removed]",
      "text/plain": [
       "<langgraph.graph.state.CompiledStateGraph object at 0x000001A92866ECB0>"
      ]
     },
     "execution_count": 52,
     "metadata": {},
     "output_type": "execute_result"
    }
   ],
   "source": [
    "workflow"
   ]
  },
  {
   "cell_type": "code",
   "execution_count": 53,
   "id": "783d6b92",
   "metadata": {},
   "outputs": [],
   "source": [
    "input_state = {\"review\":\"hey I really need this update right now its been two days delay already I don't think the team is capable of doing it anymore do this else I am moving to another client\"}"
   ]
  },
  {
   "cell_type": "code",
   "execution_count": 54,
   "id": "265700ff",
   "metadata": {},
   "outputs": [
    {
     "data": {
      "text/plain": [
       "{'review': \"hey I really need this update right now its been two days delay already I don't think the team is capable of doing it anymore do this else I am moving to another client\",\n",
       " 'sentiment': 'negative',\n",
       " 'diagnosis': {'issue_type': 'Support', 'tone': 'angry', 'urgency': 'high'},\n",
       " 'response': \"I understand you're feeling frustrated and that this is an urgent matter causing you significant stress. I want you to know that I hear your concerns and am here to help resolve this as quickly as possible.\\n\\nI know it's not easy when things aren't working as they should, especially when time is of the essence. Your frustration is completely valid, and I appreciate you bringing this to our attention. Let's work together to find a solution that addresses your needs.\\n\\nI want to assure you that your issue is my top priority, and I'm committed to helping you through this situation. You can count on me to be thorough and responsive as we work to resolve this.\\n\\nWould you be comfortable sharing more specific details about the issue you're experiencing? This will help me ensure we tackle the problem effectively and get you back on track as soon as possible.\\n\\nRemember, I'm here to support you every step of the way. Let's take this one step at a time and find the best solution together.\\n\\nHow can I best assist you right now?\"}"
      ]
     },
     "execution_count": 54,
     "metadata": {},
     "output_type": "execute_result"
    }
   ],
   "source": [
    "workflow.invoke(input_state)"
   ]
  },
  {
   "cell_type": "code",
   "execution_count": null,
   "id": "89a09fe5",
   "metadata": {},
   "outputs": [],
   "source": []
  }
 ],
 "metadata": {
  "kernelspec": {
   "display_name": "base (3.10.11)",
   "language": "python",
   "name": "python3"
  },
  "language_info": {
   "codemirror_mode": {
    "name": "ipython",
    "version": 3
   },
   "file_extension": ".py",
   "mimetype": "text/x-python",
   "name": "python",
   "nbconvert_exporter": "python",
   "pygments_lexer": "ipython3",
   "version": "3.10.11"
  }
 },
 "nbformat": 4,
 "nbformat_minor": 5
}
